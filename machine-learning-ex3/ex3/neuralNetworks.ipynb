{
 "nbformat": 4,
 "nbformat_minor": 2,
 "metadata": {
  "language_info": {
   "name": "python",
   "codemirror_mode": {
    "name": "ipython",
    "version": 3
   }
  },
  "orig_nbformat": 2,
  "file_extension": ".py",
  "mimetype": "text/x-python",
  "name": "python",
  "npconvert_exporter": "python",
  "pygments_lexer": "ipython3",
  "version": 3
 },
 "cells": [
  {
   "cell_type": "code",
   "execution_count": 1,
   "metadata": {},
   "outputs": [],
   "source": [
    "%config IPCompleter.greedy=True\n",
    "import numpy as np\n",
    "import pandas as pd\n",
    "import matplotlib.pyplot as plt\n",
    "import scipy.io\n",
    "from random import randrange\n",
    "from scipy.optimize import fmin_bfgs"
   ]
  },
  {
   "cell_type": "code",
   "execution_count": 23,
   "metadata": {},
   "outputs": [],
   "source": [
    "mat = scipy.io.loadmat('machine-learning-ex3\\ex3\\ex3data1.mat')\n",
    "X = mat['X']\n",
    "y = mat['y'].flatten()\n",
    "y[y==10]=0\n",
    "\n",
    "thetas = scipy.io.loadmat('machine-learning-ex3\\ex3\\ex3weights.mat')\n",
    "theta1 = thetas['Theta1']\n",
    "theta2 = thetas['Theta2']\n",
    "def sigmoid(x):\n",
    "    return(1 / (1 + np.exp(-x)))"
   ]
  },
  {
   "cell_type": "code",
   "execution_count": 36,
   "metadata": {},
   "outputs": [
    {
     "data": {
      "text/plain": "9"
     },
     "execution_count": 36,
     "metadata": {},
     "output_type": "execute_result"
    }
   ],
   "source": [
    "\n",
    "def predict(X):\n",
    "    if(X.shape==1):\n",
    "        X = X[:,np.newaxis]\n",
    "    X = np.append(1,X)\n",
    "\n",
    "    hidden = np.zeros((25,1))\n",
    "    hidden = theta1.dot(X)\n",
    "    hidden = sigmoid(hidden)\n",
    "\n",
    "    hidden = np.append(1,hidden)\n",
    "    output = theta2.dot(hidden)\n",
    "\n",
    "    pred = (np.argmax(output)+1) % 10\n",
    "    return pred\n",
    "\n",
    "predict(X[4999])"
   ]
  },
  {
   "cell_type": "code",
   "execution_count": 51,
   "metadata": {},
   "outputs": [
    {
     "name": "stdout",
     "output_type": "stream",
     "text": "Correct Predictions: 97.52%\n"
    }
   ],
   "source": [
    "def predictAll():\n",
    "    wrong = 0\n",
    "    for i in range(0,5000):\n",
    "        if(predict(X[i])!=y[i]):\n",
    "            wrong+=1\n",
    "    return 100-wrong/5000*100\n",
    "pred = predictAll()\n",
    "print(\"Correct Predictions: {}%\".format(pred))"
   ]
  },
  {
   "cell_type": "code",
   "execution_count": null,
   "metadata": {},
   "outputs": [],
   "source": []
  }
 ]
}